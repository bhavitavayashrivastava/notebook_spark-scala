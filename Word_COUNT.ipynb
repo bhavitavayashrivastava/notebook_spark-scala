{
 "cells": [
  {
   "cell_type": "code",
   "execution_count": 1,
   "id": "8478965c",
   "metadata": {},
   "outputs": [
    {
     "data": {
      "text/plain": [
       "org.apache.spark.sql.SparkSession@40a0fede"
      ]
     },
     "execution_count": 1,
     "metadata": {},
     "output_type": "execute_result"
    },
    {
     "name": "stdout",
     "output_type": "stream",
     "text": [
      "(gradle@5,1)\n",
      "(cmake,1)\n",
      "(pcre2,1)\n",
      "(msodbcsql@13.1,1)\n",
      "(mssql-tools,1)\n",
      "(.keepme,1)\n",
      "(git-gui,1)\n",
      "(openjdk@11,1)\n",
      "(helm,1)\n",
      "(libtool,1)\n",
      "(msodbcsql17,1)\n",
      "(maven@3.5,1)\n",
      "(brotli,1)\n",
      "(gradle,1)\n",
      "(java11,1)\n",
      "(mssql-tools@17.3,1)\n",
      "(data,4)\n",
      "(sqlite3,1)\n",
      "(msodbcsql,1)\n",
      "(node.js,1)\n",
      "(azure-cli,1)\n",
      "(sqlite,1)\n",
      "(nodejs,1)\n",
      "(openssl,1)\n",
      "(departments.json,1)\n",
      "(maven@3.6,1)\n",
      "(python3,1)\n",
      "(gdbm,1)\n",
      "(zsh,1)\n",
      "(pkgconfig,1)\n",
      "(azure-functions-core-tools,1)\n",
      "(gen_logs,12)\n",
      "(openssl@3,1)\n",
      "(sbt@1,1)\n",
      "(maven,1)\n",
      "(usr,94)\n",
      "(tail_logs.sh,1)\n",
      "(unixodbc,1)\n",
      "(autoconf@2.71,1)\n",
      "(mpdecimal,1)\n",
      "(sbt,1)\n",
      "(python@3.7,1)\n",
      "(wget,1)\n",
      "(scala@2.11,1)\n",
      "(oniguruma,1)\n",
      "(xz,1)\n",
      "(kubernetes-cli,1)\n",
      "(node,1)\n",
      "(tcl-tk,1)\n",
      "(cf-cli,1)\n",
      "(opt,94)\n",
      "(libunistring,1)\n",
      "(node@12,1)\n",
      "(swig@4,1)\n",
      "(m4,1)\n",
      "(readline,1)\n",
      "(pkg-config,1)\n",
      "(genhttplogs.py,1)\n",
      "(pcre1,1)\n",
      "(mongodb-community@4.0,1)\n",
      "(helm@3,1)\n",
      "(libnghttp2,1)\n",
      "(openjdk@13,1)\n",
      "(tree,1)\n",
      "(c-ares,1)\n",
      "(icu4c,1)\n",
      "(bash-completion,1)\n",
      "(access.log,1)\n",
      "(msodbcsql17@17.3,1)\n",
      "(swig,1)\n",
      "(stop_logs.sh,1)\n",
      "(bash-completion@1,1)\n",
      "(lib,2)\n",
      "(python,1)\n",
      "(local,94)\n",
      "(products.json,1)\n",
      "(logs,2)\n",
      "(,94)\n",
      "(npm,1)\n",
      "(libuv,1)\n",
      "(az,1)\n",
      "(libmpdec,1)\n",
      "(ca-certificates,1)\n",
      "(categories.json,1)\n",
      "(ncurses,1)\n",
      "(java,1)\n",
      "(openjdk,1)\n",
      "(telnet,1)\n",
      "(start_logs.sh,1)\n",
      "(pcre,1)\n",
      "(gettext,1)\n",
      "(openssl@1.1,1)\n",
      "(python@3,1)\n",
      "(swig@4.0,1)\n",
      "(jq,1)\n",
      "(libidn2,1)\n",
      "(autoconf,1)\n",
      "(cmake,1)\n",
      "(gradle@5,1)\n",
      "(msodbcsql@13.1,1)\n",
      "(pcre2,1)\n",
      "(.keepme,1)\n",
      "(mssql-tools,1)\n",
      "(openjdk@11,1)\n",
      "(git-gui,1)\n",
      "(libtool,1)\n",
      "(helm,1)\n",
      "(maven@3.5,1)\n",
      "(msodbcsql17,1)\n",
      "(gradle,1)\n",
      "(brotli,1)\n",
      "(mssql-tools@17.3,1)\n",
      "(java11,1)\n",
      "(sqlite3,1)\n",
      "(data,4)\n",
      "(node.js,1)\n",
      "(msodbcsql,1)\n",
      "(nodejs,1)\n",
      "(azure-cli,1)\n",
      "(departments.json,1)\n",
      "(sqlite,1)\n",
      "(python3,1)\n",
      "(openssl,1)\n",
      "(zsh,1)\n",
      "(maven@3.6,1)\n",
      "(azure-functions-core-tools,1)\n",
      "(gdbm,1)\n",
      "(openssl@3,1)\n",
      "(pkgconfig,1)\n",
      "(maven,1)\n",
      "(gen_logs,12)\n",
      "(tail_logs.sh,1)\n",
      "(sbt@1,1)\n",
      "(autoconf@2.71,1)\n",
      "(usr,94)\n",
      "(sbt,1)\n",
      "(unixodbc,1)\n",
      "(wget,1)\n",
      "(mpdecimal,1)\n",
      "(oniguruma,1)\n",
      "(python@3.7,1)\n",
      "(kubernetes-cli,1)\n",
      "(scala@2.11,1)\n",
      "(tcl-tk,1)\n",
      "(xz,1)\n",
      "(opt,94)\n",
      "(node,1)\n",
      "(node@12,1)\n",
      "(cf-cli,1)\n",
      "(m4,1)\n",
      "(libunistring,1)\n",
      "(pkg-config,1)\n",
      "(swig@4,1)\n",
      "(pcre1,1)\n",
      "(readline,1)\n",
      "(helm@3,1)\n",
      "(genhttplogs.py,1)\n",
      "(openjdk@13,1)\n",
      "(mongodb-community@4.0,1)\n",
      "(c-ares,1)\n",
      "(libnghttp2,1)\n",
      "(bash-completion,1)\n",
      "(tree,1)\n",
      "(msodbcsql17@17.3,1)\n",
      "(icu4c,1)\n",
      "(stop_logs.sh,1)\n",
      "(access.log,1)\n",
      "(lib,2)\n",
      "(swig,1)\n",
      "(local,94)\n",
      "(bash-completion@1,1)\n",
      "(logs,2)\n",
      "(python,1)\n",
      "(npm,1)\n",
      "(products.json,1)\n",
      "(az,1)\n",
      "(,94)\n",
      "(ca-certificates,1)\n",
      "(libuv,1)\n",
      "(ncurses,1)\n",
      "(libmpdec,1)\n",
      "(openjdk,1)\n",
      "(categories.json,1)\n",
      "(start_logs.sh,1)\n",
      "(java,1)\n",
      "(gettext,1)\n",
      "(telnet,1)\n",
      "(python@3,1)\n",
      "(pcre,1)\n",
      "(jq,1)\n",
      "(openssl@1.1,1)\n",
      "(autoconf,1)\n",
      "(swig@4.0,1)\n",
      "(libidn2,1)\n",
      "(cmake,1)\n",
      "(gradle@5,1)\n",
      "(msodbcsql@13.1,1)\n",
      "(pcre2,1)\n",
      "(.keepme,1)\n",
      "(mssql-tools,1)\n",
      "(openjdk@11,1)\n",
      "(git-gui,1)\n",
      "(libtool,1)\n",
      "(helm,1)\n",
      "(maven@3.5,1)\n",
      "(msodbcsql17,1)\n",
      "(gradle,1)\n",
      "(brotli,1)\n",
      "(mssql-tools@17.3,1)\n",
      "(java11,1)\n",
      "(sqlite3,1)\n",
      "(data,4)\n",
      "(node.js,1)\n",
      "(msodbcsql,1)\n",
      "(nodejs,1)\n",
      "(azure-cli,1)\n",
      "(departments.json,1)\n",
      "(sqlite,1)\n",
      "(python3,1)\n",
      "(openssl,1)\n",
      "(zsh,1)\n",
      "(maven@3.6,1)\n",
      "(azure-functions-core-tools,1)\n",
      "(gdbm,1)\n",
      "(openssl@3,1)\n",
      "(pkgconfig,1)\n",
      "(maven,1)\n",
      "(gen_logs,12)\n",
      "(tail_logs.sh,1)\n",
      "(sbt@1,1)\n",
      "(autoconf@2.71,1)\n",
      "(usr,94)\n",
      "(unixodbc,1)\n",
      "(sbt,1)\n",
      "(mpdecimal,1)\n",
      "(wget,1)\n",
      "(python@3.7,1)\n",
      "(oniguruma,1)\n",
      "(scala@2.11,1)\n",
      "(kubernetes-cli,1)\n",
      "(tcl-tk,1)\n",
      "(xz,1)\n",
      "(opt,94)\n",
      "(node,1)\n",
      "(node@12,1)\n",
      "(cf-cli,1)\n",
      "(m4,1)\n",
      "(libunistring,1)\n",
      "(pkg-config,1)\n",
      "(swig@4,1)\n",
      "(pcre1,1)\n",
      "(readline,1)\n",
      "(helm@3,1)\n",
      "(genhttplogs.py,1)\n",
      "(openjdk@13,1)\n",
      "(mongodb-community@4.0,1)\n",
      "(c-ares,1)\n",
      "(libnghttp2,1)\n",
      "(bash-completion,1)\n",
      "(tree,1)\n",
      "(msodbcsql17@17.3,1)\n",
      "(icu4c,1)\n",
      "(stop_logs.sh,1)\n",
      "(access.log,1)\n",
      "(lib,2)\n",
      "(swig,1)\n",
      "(local,94)\n",
      "(bash-completion@1,1)\n",
      "(logs,2)\n",
      "(python,1)\n",
      "(npm,1)\n",
      "(products.json,1)\n",
      "(az,1)\n",
      "(,94)\n",
      "(ca-certificates,1)\n",
      "(libuv,1)\n",
      "(ncurses,1)\n",
      "(libmpdec,1)\n",
      "(openjdk,1)\n",
      "(categories.json,1)\n",
      "(start_logs.sh,1)\n",
      "(java,1)\n",
      "(gettext,1)\n",
      "(telnet,1)\n",
      "(python@3,1)\n",
      "(pcre,1)\n",
      "(jq,1)\n",
      "(openssl@1.1,1)\n",
      "(autoconf,1)\n",
      "(swig@4.0,1)\n",
      "(libidn2,1)\n",
      "(gradle@5,1)(cmake,1)(pcre2,1)(msodbcsql@13.1,1)(mssql-tools,1)(.keepme,1)(git-gui,1)(openjdk@11,1)(helm,1)(libtool,1)(msodbcsql17,1)(maven@3.5,1)(brotli,1)(gradle,1)(java11,1)(mssql-tools@17.3,1)(data,4)(sqlite3,1)(msodbcsql,1)(node.js,1)(azure-cli,1)(nodejs,1)(sqlite,1)(departments.json,1)(openssl,1)(python3,1)(maven@3.6,1)(zsh,1)(gdbm,1)(azure-functions-core-tools,1)(pkgconfig,1)(openssl@3,1)(gen_logs,12)(maven,1)(sbt@1,1)(tail_logs.sh,1)(usr,94)(autoconf@2.71,1)(unixodbc,1)(sbt,1)(mpdecimal,1)(wget,1)(python@3.7,1)(oniguruma,1)(scala@2.11,1)(kubernetes-cli,1)(xz,1)(tcl-tk,1)(node,1)(opt,94)(cf-cli,1)(node@12,1)(libunistring,1)(m4,1)(swig@4,1)(pkg-config,1)(readline,1)(pcre1,1)(genhttplogs.py,1)(helm@3,1)(mongodb-community@4.0,1)(openjdk@13,1)(libnghttp2,1)(c-ares,1)(tree,1)(bash-completion,1)(icu4c,1)(msodbcsql17@17.3,1)(access.log,1)(stop_logs.sh,1)(swig,1)(lib,2)(bash-completion@1,1)(local,94)(python,1)(logs,2)(products.json,1)(npm,1)(,94)(az,1)(libuv,1)(ca-certificates,1)(libmpdec,1)(ncurses,1)(categories.json,1)(openjdk,1)(java,1)(start_logs.sh,1)(telnet,1)(gettext,1)(pcre,1)(python@3,1)(openssl@1.1,1)(jq,1)(swig@4.0,1)(autoconf,1)(libidn2,1)"
     ]
    }
   ],
   "source": [
    "spark\n"
   ]
  },
  {
   "cell_type": "code",
   "execution_count": 4,
   "id": "f0ccbfd8",
   "metadata": {},
   "outputs": [
    {
     "data": {
      "text/plain": [
       "lastException = null\n",
       "flistRDD = /Users/bhavitavaya/Documents/flist.txt MapPartitionsRDD[3] at textFile at <console>:24\n"
      ]
     },
     "metadata": {},
     "output_type": "display_data"
    },
    {
     "data": {
      "text/plain": [
       "/Users/bhavitavaya/Documents/flist.txt MapPartitionsRDD[3] at textFile at <console>:24"
      ]
     },
     "execution_count": 4,
     "metadata": {},
     "output_type": "execute_result"
    }
   ],
   "source": [
    "val flistRDD = sc.textFile(\"/Users/bhavitavaya/Documents/flist.txt\")"
   ]
  },
  {
   "cell_type": "code",
   "execution_count": 5,
   "id": "ad1aac47",
   "metadata": {},
   "outputs": [
    {
     "data": {
      "text/plain": [
       "/usr/local/opt"
      ]
     },
     "execution_count": 5,
     "metadata": {},
     "output_type": "execute_result"
    }
   ],
   "source": [
    "flistRDD.first()"
   ]
  },
  {
   "cell_type": "code",
   "execution_count": 6,
   "id": "792f2c2b",
   "metadata": {},
   "outputs": [
    {
     "data": {
      "text/plain": [
       "flistflatMap = MapPartitionsRDD[4] at flatMap at <console>:24\n"
      ]
     },
     "metadata": {},
     "output_type": "display_data"
    },
    {
     "data": {
      "text/plain": [
       "MapPartitionsRDD[4] at flatMap at <console>:24"
      ]
     },
     "execution_count": 6,
     "metadata": {},
     "output_type": "execute_result"
    }
   ],
   "source": [
    "val flistflatMap = flistRDD.flatMap(x=> x.split(\"/\"))"
   ]
  },
  {
   "cell_type": "code",
   "execution_count": 9,
   "id": "adeefbe0",
   "metadata": {},
   "outputs": [
    {
     "data": {
      "text/plain": [
       "Array(\"\", usr, local, opt, \"\", usr, local, opt, msodbcsql, \"\")"
      ]
     },
     "execution_count": 9,
     "metadata": {},
     "output_type": "execute_result"
    }
   ],
   "source": [
    "flistflatMap.take(10)"
   ]
  },
  {
   "cell_type": "code",
   "execution_count": 10,
   "id": "a8c483c8",
   "metadata": {},
   "outputs": [
    {
     "data": {
      "text/plain": [
       "flistmap = MapPartitionsRDD[5] at map at <console>:24\n"
      ]
     },
     "metadata": {},
     "output_type": "display_data"
    },
    {
     "data": {
      "text/plain": [
       "MapPartitionsRDD[5] at map at <console>:24"
      ]
     },
     "execution_count": 10,
     "metadata": {},
     "output_type": "execute_result"
    }
   ],
   "source": [
    "val flistmap = flistflatMap.map(word=> (word,1))"
   ]
  },
  {
   "cell_type": "code",
   "execution_count": 12,
   "id": "64e479a4",
   "metadata": {},
   "outputs": [
    {
     "data": {
      "text/plain": [
       "Array((\"\",1), (usr,1), (local,1), (opt,1), (\"\",1), (usr,1), (local,1), (opt,1), (msodbcsql,1), (\"\",1))"
      ]
     },
     "execution_count": 12,
     "metadata": {},
     "output_type": "execute_result"
    }
   ],
   "source": [
    "flistmap.take(10)"
   ]
  },
  {
   "cell_type": "code",
   "execution_count": 13,
   "id": "0566f4d4",
   "metadata": {},
   "outputs": [
    {
     "data": {
      "text/plain": [
       "flistrbk = ShuffledRDD[6] at reduceByKey at <console>:24\n"
      ]
     },
     "metadata": {},
     "output_type": "display_data"
    },
    {
     "data": {
      "text/plain": [
       "ShuffledRDD[6] at reduceByKey at <console>:24"
      ]
     },
     "execution_count": 13,
     "metadata": {},
     "output_type": "execute_result"
    }
   ],
   "source": [
    "val flistrbk = flistmap.reduceByKey((x,y)=> x+y)"
   ]
  },
  {
   "cell_type": "code",
   "execution_count": 14,
   "id": "917c519c",
   "metadata": {},
   "outputs": [
    {
     "data": {
      "text/plain": [
       "Array((gradle@5,1), (pcre2,1), (mssql-tools,1), (git-gui,1), (helm,1), (msodbcsql17,1), (brotli,1), (java11,1), (data,4), (msodbcsql,1))"
      ]
     },
     "execution_count": 14,
     "metadata": {},
     "output_type": "execute_result"
    }
   ],
   "source": [
    "flistrbk.take(10)"
   ]
  },
  {
   "cell_type": "code",
   "execution_count": 19,
   "id": "cfb5c9b1",
   "metadata": {},
   "outputs": [
    {
     "data": {
      "text/plain": [
       "Array((gradle@5,1), (pcre2,1), (mssql-tools,1), (git-gui,1), (helm,1), (msodbcsql17,1), (brotli,1), (java11,1), (data,4), (msodbcsql,1), (azure-cli,1), (sqlite,1), (openssl,1), (maven@3.6,1), (gdbm,1), (pkgconfig,1), (gen_logs,12), (sbt@1,1), (usr,94), (unixodbc,1), (mpdecimal,1), (python@3.7,1), (scala@2.11,1), (xz,1), (node,1), (cf-cli,1), (libunistring,1), (swig@4,1), (readline,1), (genhttplogs.py,1), (mongodb-community@4.0,1), (libnghttp2,1), (tree,1), (icu4c,1), (access.log,1), (swig,1), (bash-completion@1,1), (python,1), (products.json,1), (\"\",94), (libuv,1), (libmpdec,1), (categories.json,1), (java,1), (telnet,1), (pcre,1), (openssl@1.1,1), (swig@4.0,1), (libidn2,1), (cmake,1), (msodbcsql@13.1,1), (.keepme,1), (openjdk@11,1), (libtool,1), (maven@3.5,..."
      ]
     },
     "execution_count": 19,
     "metadata": {},
     "output_type": "execute_result"
    }
   ],
   "source": [
    "flistrbk.collect()"
   ]
  },
  {
   "cell_type": "code",
   "execution_count": null,
   "id": "da8a3c0c",
   "metadata": {},
   "outputs": [],
   "source": []
  }
 ],
 "metadata": {
  "kernelspec": {
   "display_name": "Apache Toree - Scala",
   "language": "scala",
   "name": "apache_toree_scala"
  },
  "language_info": {
   "codemirror_mode": "text/x-scala",
   "file_extension": ".scala",
   "mimetype": "text/x-scala",
   "name": "scala",
   "pygments_lexer": "scala",
   "version": "2.12.12"
  }
 },
 "nbformat": 4,
 "nbformat_minor": 5
}
